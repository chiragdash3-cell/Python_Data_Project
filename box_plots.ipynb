{
 "cells": [
  {
   "cell_type": "code",
   "execution_count": 1,
   "id": "be9ed423",
   "metadata": {},
   "outputs": [
    {
     "name": "stderr",
     "output_type": "stream",
     "text": [
      "c:\\Users\\Chira\\.conda\\envs\\python_course\\Lib\\site-packages\\tqdm\\auto.py:21: TqdmWarning: IProgress not found. Please update jupyter and ipywidgets. See https://ipywidgets.readthedocs.io/en/stable/user_install.html\n",
      "  from .autonotebook import tqdm as notebook_tqdm\n"
     ]
    }
   ],
   "source": [
    "import pandas as pd\n",
    "import ast\n",
    "import matplotlib.pyplot as plt\n",
    "from datasets import load_dataset\n",
    "dataset=load_dataset('lukebarousse/data_jobs')\n",
    "df= dataset[\"train\"].to_pandas()\n",
    "df['job_posted_date']=pd.to_datetime(df['job_posted_date'])\n",
    "df['job_skills']=df['job_skills'].apply(lambda skill_list: ast.literal_eval(skill_list) if pd.notna(skill_list) else skill_list )\n"
   ]
  },
  {
   "cell_type": "code",
   "execution_count": 11,
   "id": "fe1b34d5",
   "metadata": {},
   "outputs": [],
   "source": [
    "job_titles=['Data Analyst', 'Data Engineer', 'Data Scientist']\n",
    "\n",
    "df_ind= df[(df['job_title_short'].isin(job_titles)) & (df['job_country']=='India')].copy()"
   ]
  },
  {
   "cell_type": "code",
   "execution_count": 12,
   "id": "b780dea5",
   "metadata": {},
   "outputs": [],
   "source": [
    "df_ind=df_ind.dropna(subset=['salary_year_avg'])\n",
    "job_list=[df_ind[df_ind['job_title_short']==job_title]['salary_year_avg'] for job_title in job_titles]"
   ]
  },
  {
   "cell_type": "code",
   "execution_count": 14,
   "id": "4817bb96",
   "metadata": {},
   "outputs": [
    {
     "name": "stderr",
     "output_type": "stream",
     "text": [
      "C:\\Users\\Chira\\AppData\\Local\\Temp\\ipykernel_22904\\3466076259.py:1: MatplotlibDeprecationWarning: The 'labels' parameter of boxplot() has been renamed 'tick_labels' since Matplotlib 3.9; support for the old name will be dropped in 3.11.\n",
      "  plt.boxplot(job_list, labels=job_titles, vert=False)\n"
     ]
    },
    {
     "data": {
      "text/plain": [
       "(0.0, 300000.0)"
      ]
     },
     "execution_count": 14,
     "metadata": {},
     "output_type": "execute_result"
    },
    {
     "data": {
      "image/png": "[encoded data removed]",
      "text/plain": [
       "<Figure size 640x480 with 1 Axes>"
      ]
     },
     "metadata": {},
     "output_type": "display_data"
    }
   ],
   "source": [
    "plt.boxplot(job_list, labels=job_titles, vert=False)\n",
    "plt.xlim(0,300000)"
   ]
  },
  {
   "cell_type": "code",
   "execution_count": 9,
   "id": "3bde4b69",
   "metadata": {},
   "outputs": [
    {
     "data": {
      "text/plain": [
       "[Series([], Name: salary_year_avg, dtype: float64),\n",
       " 3930      114516.0\n",
       " 9143       79200.0\n",
       " 16358     157500.0\n",
       " 27440     157500.0\n",
       " 30999     157500.0\n",
       "             ...   \n",
       " 762560     70000.0\n",
       " 762634     64800.0\n",
       " 768729     79200.0\n",
       " 770989    157500.0\n",
       " 784768    157500.0\n",
       " Name: salary_year_avg, Length: 92, dtype: float64]"
      ]
     },
     "execution_count": 9,
     "metadata": {},
     "output_type": "execute_result"
    }
   ],
   "source": [
    "job_list"
   ]
  }
 ],
 "metadata": {
  "kernelspec": {
   "display_name": "python_course",
   "language": "python",
   "name": "python3"
  },
  "language_info": {
   "codemirror_mode": {
    "name": "ipython",
    "version": 3
   },
   "file_extension": ".py",
   "mimetype": "text/x-python",
   "name": "python",
   "nbconvert_exporter": "python",
   "pygments_lexer": "ipython3",
   "version": "3.11.13"
  }
 },
 "nbformat": 4,
 "nbformat_minor": 5
}
